{
 "cells": [
  {
   "cell_type": "code",
   "execution_count": 4,
   "metadata": {},
   "outputs": [
    {
     "name": "stdout",
     "output_type": "stream",
     "text": [
      "dict_keys(['epoch', 'model_state_dict', 'optimizer_state_dict', 'scheduler_state_dict', 'loss', 'wandb_id', 'train_accuracy', 'test_accuracy', 'step', 'curriculum_num'])\n"
     ]
    },
    {
     "ename": "TypeError",
     "evalue": "__init__() missing 4 required positional arguments: 'sim', 'emsize', 'nhead', and 'num_encoder_layers'",
     "output_type": "error",
     "traceback": [
      "\u001b[0;31m---------------------------------------------------------------------------\u001b[0m",
      "\u001b[0;31mTypeError\u001b[0m                                 Traceback (most recent call last)",
      "Cell \u001b[0;32mIn[4], line 6\u001b[0m\n\u001b[1;32m      4\u001b[0m save \u001b[39m=\u001b[39m torch\u001b[39m.\u001b[39mload(\u001b[39m\"\u001b[39m\u001b[39mcheckpoints/rural-star-166/best-val-acc-0.7612-epoch-500.pt\u001b[39m\u001b[39m\"\u001b[39m)\n\u001b[1;32m      5\u001b[0m \u001b[39mprint\u001b[39m(save\u001b[39m.\u001b[39mkeys())\n\u001b[0;32m----> 6\u001b[0m model \u001b[39m=\u001b[39m LoopedTransformerModelV2()\n\u001b[1;32m      7\u001b[0m model\u001b[39m.\u001b[39mload_state_dict()\n",
      "\u001b[0;31mTypeError\u001b[0m: __init__() missing 4 required positional arguments: 'sim', 'emsize', 'nhead', and 'num_encoder_layers'"
     ]
    }
   ],
   "source": [
    "from model import LoopedTransformerModelV2\n",
    "from simulator import SubleqSimV3\n",
    "import torch\n",
    "\n",
    "save = torch.load(\"checkpoints/rural-star-166/best-val-acc-0.7612-epoch-500.pt\")\n",
    "print(save.keys())\n",
    "args = save['args']\n",
    "train_sim = SubleqSimV3(mem_bits=args.N, num_mem=args.num_mem, ary=args.ary)\n",
    "model = LoopedTransformerModelV2(train_sim, args.emsize, args.nhead, args.nlayers, args.nhid, args.dropout)\n",
    "model.load_state_dict(save['model_state_dict'])\n",
    "\n"
   ]
  }
 ],
 "metadata": {
  "kernelspec": {
   "display_name": "loop-trans",
   "language": "python",
   "name": "python3"
  },
  "language_info": {
   "codemirror_mode": {
    "name": "ipython",
    "version": 3
   },
   "file_extension": ".py",
   "mimetype": "text/x-python",
   "name": "python",
   "nbconvert_exporter": "python",
   "pygments_lexer": "ipython3",
   "version": "3.9.16"
  },
  "orig_nbformat": 4
 },
 "nbformat": 4,
 "nbformat_minor": 2
}
